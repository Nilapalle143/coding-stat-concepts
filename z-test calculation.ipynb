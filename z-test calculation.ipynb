{
 "cells": [
  {
   "cell_type": "code",
   "execution_count": 1,
   "id": "2d961915",
   "metadata": {},
   "outputs": [
    {
     "name": "stdout",
     "output_type": "stream",
     "text": [
      "Z-Score : 4.714045207910317\n",
      "Critical Z-Score : 1.6448536269514722\n",
      "Reject Null Hypothesis\n",
      "p-value : 1.2142337364462463e-06\n",
      "Reject Null Hypothesis\n"
     ]
    }
   ],
   "source": [
    "# Import the necessary libraries\n",
    "import numpy as np\n",
    "import scipy.stats as stats\n",
    " \n",
    "# Given information\n",
    "sample_mean = 110\n",
    "population_mean = 100\n",
    "population_std = 15\n",
    "sample_size = 50\n",
    "alpha = 0.05\n",
    " \n",
    "# compute the z-score\n",
    "z_score = (sample_mean-population_mean)/(population_std/np.sqrt(50))\n",
    "print('Z-Score :',z_score)\n",
    " \n",
    "# Approach 1: Using Critical Z-Score\n",
    " \n",
    "# Critical Z-Score\n",
    "z_critical = stats.norm.ppf(1-alpha)\n",
    "print('Critical Z-Score :',z_critical)\n",
    " \n",
    "# Hypothesis\n",
    "if z_score >  z_critical:\n",
    "    print(\"Reject Null Hypothesis\")\n",
    "else:\n",
    "  print(\"Fail to Reject Null Hypothesis\")\n",
    " \n",
    "# Approach 2: Using P-value\n",
    "     \n",
    "# P-Value : Probability of getting less than a Z-score\n",
    "p_value = 1-stats.norm.cdf(z_score)\n",
    " \n",
    "print('p-value :',p_value)\n",
    " \n",
    "# Hypothesis\n",
    "if p_value <  alpha:\n",
    "    print(\"Reject Null Hypothesis\")\n",
    "else:\n",
    "  print(\"Fail to Reject Null Hypothesis\")"
   ]
  },
  {
   "cell_type": "markdown",
   "id": "62e06ebc",
   "metadata": {},
   "source": [
    "# Two Sample z-test"
   ]
  },
  {
   "cell_type": "code",
   "execution_count": 2,
   "id": "4a150790",
   "metadata": {},
   "outputs": [
    {
     "name": "stdout",
     "output_type": "stream",
     "text": [
      "Z-Score: 2.3836564731139807\n",
      "Critical Z-Score: 1.959963984540054\n",
      "Reject the null hypothesis.\n",
      "There is a significant difference between the online and offline classes.\n",
      "P-Value : 0.01714159544079563\n",
      "Reject the null hypothesis.\n",
      "There is a significant difference between the online and offline classes.\n"
     ]
    }
   ],
   "source": [
    "import numpy as np\n",
    "import scipy.stats as stats\n",
    " \n",
    " \n",
    "# Group A (Offline Classes)\n",
    "n1 = 50\n",
    "x1 = 75\n",
    "s1 = 10\n",
    " \n",
    "# Group B (Online Classes)\n",
    "n2 = 60\n",
    "x2 = 80\n",
    "s2 = 12\n",
    " \n",
    "# Null Hypothesis = mu_1-mu_2 = 0 \n",
    "# Hypothesized difference (under the null hypothesis)\n",
    "D = 0\n",
    " \n",
    "# Set the significance level\n",
    "alpha = 0.05\n",
    " \n",
    "# Calculate the test statistic (z-score)\n",
    "z_score = ((x1 - x2) - D) / np.sqrt((s1**2 / n1) + (s2**2 / n2))\n",
    "print('Z-Score:', np.abs(z_score))\n",
    " \n",
    "# Calculate the critical value\n",
    "z_critical = stats.norm.ppf(1 - alpha/2)\n",
    "print('Critical Z-Score:',z_critical)\n",
    " \n",
    " \n",
    "# Compare the test statistic with the critical value\n",
    "if np.abs(z_score) > z_critical:\n",
    "    print(\"\"\"Reject the null hypothesis.\n",
    "There is a significant difference between the online and offline classes.\"\"\")\n",
    "else:\n",
    "    print(\"\"\"Fail to reject the null hypothesis.\n",
    "There is not enough evidence to suggest a significant difference between the online and offline classes.\"\"\")\n",
    " \n",
    "# Approach 2: Using P-value\n",
    "     \n",
    "# P-Value : Probability of getting less than a Z-score\n",
    "p_value = 2 * (1 - stats.norm.cdf(np.abs(z_score)))\n",
    "print('P-Value :',p_value)\n",
    " \n",
    "# Compare the p-value with the significance level\n",
    "if p_value < alpha:\n",
    "    print(\"\"\"Reject the null hypothesis.\n",
    "There is a significant difference between the online and offline classes.\"\"\")\n",
    "else:\n",
    "    print(\"\"\"Fail to reject the null hypothesis.\n",
    "There is not enough evidence to suggest significant difference between the online and offline classes.\"\"\")"
   ]
  },
  {
   "cell_type": "code",
   "execution_count": null,
   "id": "32ab0b63",
   "metadata": {},
   "outputs": [],
   "source": []
  }
 ],
 "metadata": {
  "kernelspec": {
   "display_name": "Python 3 (ipykernel)",
   "language": "python",
   "name": "python3"
  },
  "language_info": {
   "codemirror_mode": {
    "name": "ipython",
    "version": 3
   },
   "file_extension": ".py",
   "mimetype": "text/x-python",
   "name": "python",
   "nbconvert_exporter": "python",
   "pygments_lexer": "ipython3",
   "version": "3.11.5"
  }
 },
 "nbformat": 4,
 "nbformat_minor": 5
}
